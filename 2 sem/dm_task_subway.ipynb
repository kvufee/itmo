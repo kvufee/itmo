{
 "cells": [
  {
   "cell_type": "code",
   "execution_count": 4,
   "id": "948d7231-429f-455f-954e-9ec679cfc8a9",
   "metadata": {
    "tags": []
   },
   "outputs": [],
   "source": [
    "import igraph as ig\n",
    "import pandas as pd"
   ]
  },
  {
   "cell_type": "markdown",
   "id": "1943b7f0-cbdd-4ca0-9cc2-70f677ffb224",
   "metadata": {},
   "source": [
    "## Read and preprocess data"
   ]
  },
  {
   "cell_type": "code",
   "execution_count": 32,
   "id": "a4b91e0a-82a2-4a9b-a6ee-5fd825a4ef16",
   "metadata": {
    "tags": []
   },
   "outputs": [
    {
     "data": {
      "text/html": [
       "<div>\n",
       "<style scoped>\n",
       "    .dataframe tbody tr th:only-of-type {\n",
       "        vertical-align: middle;\n",
       "    }\n",
       "\n",
       "    .dataframe tbody tr th {\n",
       "        vertical-align: top;\n",
       "    }\n",
       "\n",
       "    .dataframe thead th {\n",
       "        text-align: right;\n",
       "    }\n",
       "</style>\n",
       "<table border=\"1\" class=\"dataframe\">\n",
       "  <thead>\n",
       "    <tr style=\"text-align: right;\">\n",
       "      <th></th>\n",
       "      <th>from</th>\n",
       "      <th>to</th>\n",
       "    </tr>\n",
       "  </thead>\n",
       "  <tbody>\n",
       "    <tr>\n",
       "      <th>0</th>\n",
       "      <td>Oxford_Circus</td>\n",
       "      <td>Bond_Street</td>\n",
       "    </tr>\n",
       "    <tr>\n",
       "      <th>1</th>\n",
       "      <td>Marble_Arch</td>\n",
       "      <td>Bond_Street</td>\n",
       "    </tr>\n",
       "    <tr>\n",
       "      <th>2</th>\n",
       "      <td>Notting_Hill_Gate</td>\n",
       "      <td>Queensway</td>\n",
       "    </tr>\n",
       "    <tr>\n",
       "      <th>3</th>\n",
       "      <td>Queensway</td>\n",
       "      <td>Lancaster_Gate</td>\n",
       "    </tr>\n",
       "    <tr>\n",
       "      <th>4</th>\n",
       "      <td>Lancaster_Gate</td>\n",
       "      <td>Marble_Arch</td>\n",
       "    </tr>\n",
       "  </tbody>\n",
       "</table>\n",
       "</div>"
      ],
      "text/plain": [
       "                from              to\n",
       "0      Oxford_Circus     Bond_Street\n",
       "1        Marble_Arch     Bond_Street\n",
       "2  Notting_Hill_Gate       Queensway\n",
       "3          Queensway  Lancaster_Gate\n",
       "4     Lancaster_Gate     Marble_Arch"
      ]
     },
     "execution_count": 32,
     "metadata": {},
     "output_type": "execute_result"
    }
   ],
   "source": [
    "data = pd.read_csv(\"Simple_pairwise-London_tube_map.txt\", sep='\\t', header = None)\n",
    "data.rename(columns = {0:'from', 1:'to', 2:'remove'}, inplace = True)\n",
    "data = data.drop('remove', axis=1)\n",
    "data.head(5)"
   ]
  },
  {
   "cell_type": "markdown",
   "id": "9ff78efd-bc94-4255-95f9-c1c32b51ab2f",
   "metadata": {},
   "source": [
    "## Transform dataframe data to verticles and edges"
   ]
  },
  {
   "cell_type": "code",
   "execution_count": 33,
   "id": "ea131ed0-ce98-4a5c-aefa-15bdc4adde65",
   "metadata": {
    "tags": []
   },
   "outputs": [],
   "source": [
    "graph = ig.Graph()"
   ]
  },
  {
   "cell_type": "code",
   "execution_count": null,
   "id": "d0cf8dd3-ebe6-4c9f-b34e-2feaf5ab3c80",
   "metadata": {},
   "outputs": [],
   "source": []
  }
 ],
 "metadata": {
  "kernelspec": {
   "display_name": "Python 3 (ipykernel)",
   "language": "python",
   "name": "python3"
  },
  "language_info": {
   "codemirror_mode": {
    "name": "ipython",
    "version": 3
   },
   "file_extension": ".py",
   "mimetype": "text/x-python",
   "name": "python",
   "nbconvert_exporter": "python",
   "pygments_lexer": "ipython3",
   "version": "3.9.15"
  }
 },
 "nbformat": 4,
 "nbformat_minor": 5
}
