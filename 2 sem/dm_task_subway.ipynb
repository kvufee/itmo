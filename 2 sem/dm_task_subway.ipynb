{
 "cells": [
  {
   "cell_type": "code",
   "execution_count": 35,
   "id": "948d7231-429f-455f-954e-9ec679cfc8a9",
   "metadata": {
    "tags": []
   },
   "outputs": [],
   "source": [
    "import igraph as ig\n",
    "import pandas as pd\n",
    "import cairocffi as cairo"
   ]
  },
  {
   "cell_type": "markdown",
   "id": "1943b7f0-cbdd-4ca0-9cc2-70f677ffb224",
   "metadata": {},
   "source": [
    "## Read and preprocess data"
   ]
  },
  {
   "cell_type": "code",
   "execution_count": 52,
   "id": "a4b91e0a-82a2-4a9b-a6ee-5fd825a4ef16",
   "metadata": {
    "tags": []
   },
   "outputs": [
    {
     "ename": "TypeError",
     "evalue": "read_csv() got an unexpected keyword argument 'head'",
     "output_type": "error",
     "traceback": [
      "\u001b[0;31m---------------------------------------------------------------------------\u001b[0m",
      "\u001b[0;31mTypeError\u001b[0m                                 Traceback (most recent call last)",
      "Cell \u001b[0;32mIn[52], line 1\u001b[0m\n\u001b[0;32m----> 1\u001b[0m data \u001b[38;5;241m=\u001b[39m \u001b[43mpd\u001b[49m\u001b[38;5;241;43m.\u001b[39;49m\u001b[43mread_csv\u001b[49m\u001b[43m(\u001b[49m\u001b[38;5;124;43m\"\u001b[39;49m\u001b[38;5;124;43mSimple_pairwise-London_tube_map.txt\u001b[39;49m\u001b[38;5;124;43m\"\u001b[39;49m\u001b[43m,\u001b[49m\u001b[43m \u001b[49m\u001b[43msep\u001b[49m\u001b[38;5;241;43m=\u001b[39;49m\u001b[38;5;124;43m'\u001b[39;49m\u001b[38;5;130;43;01m\\t\u001b[39;49;00m\u001b[38;5;124;43m'\u001b[39;49m\u001b[43m,\u001b[49m\u001b[43m \u001b[49m\u001b[43mhead\u001b[49m\u001b[38;5;241;43m=\u001b[39;49m\u001b[38;5;28;43;01mNone\u001b[39;49;00m\u001b[43m)\u001b[49m\n\u001b[1;32m      2\u001b[0m data\u001b[38;5;241m.\u001b[39mhead(\u001b[38;5;241m5\u001b[39m)\n",
      "File \u001b[0;32m~/.conda/envs/myenv/lib/python3.9/site-packages/pandas/util/_decorators.py:211\u001b[0m, in \u001b[0;36mdeprecate_kwarg.<locals>._deprecate_kwarg.<locals>.wrapper\u001b[0;34m(*args, **kwargs)\u001b[0m\n\u001b[1;32m    209\u001b[0m     \u001b[38;5;28;01melse\u001b[39;00m:\n\u001b[1;32m    210\u001b[0m         kwargs[new_arg_name] \u001b[38;5;241m=\u001b[39m new_arg_value\n\u001b[0;32m--> 211\u001b[0m \u001b[38;5;28;01mreturn\u001b[39;00m \u001b[43mfunc\u001b[49m\u001b[43m(\u001b[49m\u001b[38;5;241;43m*\u001b[39;49m\u001b[43margs\u001b[49m\u001b[43m,\u001b[49m\u001b[43m \u001b[49m\u001b[38;5;241;43m*\u001b[39;49m\u001b[38;5;241;43m*\u001b[39;49m\u001b[43mkwargs\u001b[49m\u001b[43m)\u001b[49m\n",
      "File \u001b[0;32m~/.conda/envs/myenv/lib/python3.9/site-packages/pandas/util/_decorators.py:331\u001b[0m, in \u001b[0;36mdeprecate_nonkeyword_arguments.<locals>.decorate.<locals>.wrapper\u001b[0;34m(*args, **kwargs)\u001b[0m\n\u001b[1;32m    325\u001b[0m \u001b[38;5;28;01mif\u001b[39;00m \u001b[38;5;28mlen\u001b[39m(args) \u001b[38;5;241m>\u001b[39m num_allow_args:\n\u001b[1;32m    326\u001b[0m     warnings\u001b[38;5;241m.\u001b[39mwarn(\n\u001b[1;32m    327\u001b[0m         msg\u001b[38;5;241m.\u001b[39mformat(arguments\u001b[38;5;241m=\u001b[39m_format_argument_list(allow_args)),\n\u001b[1;32m    328\u001b[0m         \u001b[38;5;167;01mFutureWarning\u001b[39;00m,\n\u001b[1;32m    329\u001b[0m         stacklevel\u001b[38;5;241m=\u001b[39mfind_stack_level(),\n\u001b[1;32m    330\u001b[0m     )\n\u001b[0;32m--> 331\u001b[0m \u001b[38;5;28;01mreturn\u001b[39;00m \u001b[43mfunc\u001b[49m\u001b[43m(\u001b[49m\u001b[38;5;241;43m*\u001b[39;49m\u001b[43margs\u001b[49m\u001b[43m,\u001b[49m\u001b[43m \u001b[49m\u001b[38;5;241;43m*\u001b[39;49m\u001b[38;5;241;43m*\u001b[39;49m\u001b[43mkwargs\u001b[49m\u001b[43m)\u001b[49m\n",
      "\u001b[0;31mTypeError\u001b[0m: read_csv() got an unexpected keyword argument 'head'"
     ]
    }
   ],
   "source": [
    "data = pd.read_csv(\"Simple_pairwise-London_tube_map.txt\", sep='\\t', head=None)\n",
    "data.head(5)\n",
    "\n",
    "колонки как from to, серии в пандасе для рёбер, прреобразовать к листу первый столбец и второй столбец. сделать аккуратно пары через фор"
   ]
  },
  {
   "cell_type": "markdown",
   "id": "9ff78efd-bc94-4255-95f9-c1c32b51ab2f",
   "metadata": {},
   "source": [
    "## Transform dataframe data to verticles and edges"
   ]
  },
  {
   "cell_type": "code",
   "execution_count": 42,
   "id": "ea131ed0-ce98-4a5c-aefa-15bdc4adde65",
   "metadata": {
    "tags": []
   },
   "outputs": [],
   "source": [
    "graph = ig.Graph()"
   ]
  },
  {
   "cell_type": "code",
   "execution_count": 49,
   "id": "9b565b62-f166-4a13-92c7-c02447e34372",
   "metadata": {
    "tags": []
   },
   "outputs": [],
   "source": [
    "graph.add_vertices(data['Oxford_Circus'].tolist())"
   ]
  },
  {
   "cell_type": "code",
   "execution_count": 50,
   "id": "185d26f3-347b-451d-bc85-a90a0b5c45f7",
   "metadata": {
    "tags": []
   },
   "outputs": [
    {
     "ename": "RuntimeError",
     "evalue": "error while indexing vertex names; did you accidentally try to use a non-hashable object as a vertex name earlier? Check the name of vertex 418 (['Marble_Arch', 'Notting_Hill_Gate', 'Queensway', 'Lancaster_Gate', 'Oxford_Circus', 'Holborn', 'Chancery_Lane', \"St_Paul's\", 'Bank_', 'Gloucester_Road', 'Knightsbridge', 'Hyde_Park_Corner', 'Green_Park', 'Piccadilly_Circus', 'Leicester_Square', 'Covent_Garden', 'Holborn', 'Russel_Square', \"King''s_Cross_St_Pancras\", 'Euston', 'Warren_Street', 'Oxford_Circus', 'Green_Park', 'Victoria', 'Pimlico', 'Warren_Street', 'Goodge_Street', 'Tottenham_Court_Road', 'Leicester_Square', 'Charing_Cross', 'Embankment', 'Waterloo', 'Kennington', 'Borough', 'Borough', 'London_Bridge', 'Monument', 'Moorgate', 'Old_Street', 'Angel', 'Kennington', 'Oval', 'Stockwell', 'Gloucester_Road', 'South_Kensington', 'Sloane_Square', 'Victoria', \"St_James's_Park\", 'Westminister', 'Embankment', 'Temple', 'Blackfriars', 'Mansion_House', 'Cannon_Street', 'Monument', 'Tower_Hill', 'Tower_Hill', 'Aldgate', 'Aldgate_East', 'Liverpool_Street', 'Moorgate', 'Barbican', 'Farrington', \"King''s_Cross_St_Pancras\", 'Euston_Square', 'Great_Portland_Street', 'Edgware_Road', 'Edgware_Road', 'Bayswater', 'Notting_Hill_Gate', 'High_Street_Kensington', 'Baker_Street', 'Bond_Street', 'Green_Park', 'Westminister', 'Waterloo', 'Southwark', 'Baker_Street', \"Regent's_Park\", 'Oxford_Circus', 'Piccadilly_Circus', 'Waterloo', 'Lambeth_North', 'Baker_Street', 'Marylebone', 'Edgware_Road', 'Edgware_Road', \"King''s_Cross_St_Pancras\", 'Finsbury_Park', 'Finsbury_Park', 'Seven_Sisters', 'Tottenham_Hale', 'Blackhorse_Road', 'Euston', 'Mornington_Crescent', 'Euston', 'Edgware', 'Burnt_Oak', 'Colindale', 'Hendon_Central', 'Brent_Cross', 'Hampstead', 'Hampstead', 'Belsize_Park', 'Camden_Town', 'High_Barnet', 'Totteridge_&_Whetstone', 'Woodside_Park', 'Finchley_Central', 'Finchley_Central', 'Finchley_Central', 'East_Finchley', 'Highgate', 'Archway', 'Tufnell_Park', 'Kentish_Town', 'Morden', 'South_Wimbledon', 'Tooting_Broadway', 'Tooting_Bec', 'Balham', 'Clapham_South', 'Clapham_Common', 'Clapham_North', 'Stockwell', 'Stockwell', 'Gloucester_Road', \"Earl's_Court\", 'Barons_Court', 'Hammersmith', 'Turnham_Green', 'Heathrow_Terminal_1,2,3', 'Heathrow_Terminal_1,2,3', 'Heathrow_Terminal_4', 'Heathrow_Terminal_1,2,3', 'Hounslow_West', 'Hounslow_Central', 'Hounslow_Central', 'Hounslow_East', 'Osterley', 'Boston_Manor', 'Northfields', 'South_Ealing', 'Wimbledon', 'Wimbledon_Park', 'Southfields', 'East_Putney', 'Parsons_Green', 'Fulham_Broadway', 'West_Brompton', \"Earl's_Court\", \"Earl's_Court\", 'West_Kensington', 'Hammersmith', 'Ravenscourt_Park', 'Stamford_Brook', 'Richmond', 'Kew_Gardens', 'Gunnesbury', 'Turnham_Green', 'Chiswick_Park', 'Acton_Town', 'Ealing_Common', 'Holland_Park', \"Shepard's_Bush\", \"Shepard's_Bush\", 'White_City', 'North_Acton', 'West_Acton', 'Ealing_Broadway', 'West_Ruislip', 'Ruislip_Gardens', 'Northolt', 'Northolt', 'Greenford', 'Perivale', 'Park_Royal', 'North_Ealing', 'North_Acton', 'Sudbury_Town', 'Alperton', 'Sudbury_Hill', 'Uxbridge', 'Hillingdon', 'Ickenham', 'Ruislip', 'Eastcote', 'Rayners_Lane', 'South_Harrow', 'Sudbury_Hill', 'Rayners_Lane', 'West_Harrow', 'Amersham', 'Chesham', 'Chalfont_&_Latimer', 'Chorleywood', 'Rickmansworth', 'Moor_Park', 'Croxley', 'Pinner', 'Northwood_Hills', 'Northwood', 'Moor_Park', 'NorthHarrow', 'Finchley_Road', 'Finchley_Road', 'Wembley_Park', 'Preston_Road', 'Northwick_Park', 'Watford_Junction', 'Watford_High_Street', 'Bushey', 'Carpenders_Park', 'Hatch_End', 'Headstone_Lane', 'Harrow_&_Wealdstone', 'Kenton', 'South_Kenton', 'North_Wembley', 'Wembley_Central', 'Stonebridge_Park', 'Harlesden', 'Willesden_Junction', 'Kensal_Green_', 'Kilburn_Park', \"Queen's_Park\", 'Malda_Vale', 'Warwick_Avenue', 'Baker_Street', \"St_John's_Wood\", 'Swiss_Cottage', 'Queensbury', 'Neasden', 'Willesden_Green_', 'Kilburn', 'West_Hampstead', 'Finchley_Road', 'Stanmore', 'Canons_Park', 'Paddington', 'Royal_Oak_', 'Westburn_Park', 'Ladbroke_Grove', 'Latimer_Road', 'White_City', 'Wood_Lane', \"Shepherd's_Bush_Market_\", \"Shepherd's_Bush_Market_\", 'Goldhawk_Road', \"Shepard's_Bush\", 'Manor_House', 'Cockfosters', 'Oakwood', 'Arnos_Grove', 'Turnpike_Lane', 'Manor_House', 'Finsbury_Park', 'Arsenal', 'Holloway_Road', 'Caledonian_Road', 'Epping', 'Theydon_Bois', 'Debden', 'Loughton', 'Buckhurst_Hill', '_Woodford', 'South_Woodford', 'Snaresbrook', 'Leytonstone', 'Leyton', 'Stratford', 'Mile_End', 'Bethnal_Green_', 'Roding_Valley', 'Roding_Valley', 'Chigwell', 'Grange_Hill', 'Fairlop', 'Barkingside', 'Barkingside', 'Newbury_Park', 'Gants_Hill', 'Redbridge', 'Wanstead', 'Mile_End', 'Mile_End', 'Bow_Road', 'West_Ham', 'West_Ham', 'Plaistow', 'Upton_Park', 'East_Ham', 'Barking', 'Upney', 'Becontree', 'Dagenham_East', 'Elm_Park', 'Horchurch', 'Upminister_Bridge', 'Stepney_Green', 'Aldgate_East', 'Stratford', 'London_Bridge', 'Bermondsey', 'Canada_Water', 'Canary_Warf', 'North_Greenwich', 'Neasden', 'Wembley_Park', 'Gunnesbury', 'South_Acton', 'Willesden_Junction', 'Willesden_Junction', 'Brondesbury_Park', 'Kensal_Rise', 'Brondesbury', 'West_Hampstead', 'Finchley_Road_&_Frognal', 'Hampsted_Heath', 'Gospel_Oak', 'Camden_Road', 'Cledonian_Road_&_Barnsbury', 'Highbury_&_Islington', 'Canonbury', 'Hackney_Wick', 'Hackney_Wick', 'Homerton', 'Hackney_Central', 'Canonbury', 'Whitechapel', 'Shoreditch_High_Street', 'Haggerston', 'Haggerston', 'Whitechapel', 'Shadwell', 'Rotherhithe', 'Rotherhithe', 'Canada_Water', 'New_Cross', 'Surrey_Quays', 'Queens_Road_Peckham', 'Peckham_Rye', 'Denmark_Hill', 'Denmark_Hill', 'West_Brompton', 'Clapham_Junction', 'Wandsworth_Road', 'Clapham_High_Street', 'West_Brompton', \"Shepard's_Bush\", 'Lewisham', 'Elverson_Road', 'Deptford_Bridge', 'Greenwich', 'Cutty_Sark_for_Maritime_Greenwich', 'Island_Gardens', 'Mudchute', 'Crossharbour', 'South_Quay', 'Heron_Quays', 'Canary_Warf', 'Poplar', 'Bow_Church', 'Langdon_Park', 'Langdon_Park', 'Poplar', 'Bow_Church', 'Bow_Church', 'Pudding_Mill_Lane', 'Stratford', 'Stratford_High_Street', 'Abbey_Road', 'West_Ham', 'Star_Lane', 'Canning_Town', 'Royal_Victoria', 'Custom_House_for_ExCeL', 'Prince_Regent', 'Royal_Albert', 'Beckton_Park', 'Cyprus', 'Gallions_Reach', 'Woolwich_Arsenal', 'King_George_V', 'West_Silvertown', 'Pontoon_Dock', 'Canning_Town', 'Stratford_International', 'Bank_', 'Tower_Gateway', 'Bank_', 'Tower_Gateway', 'Limehouse', 'Westferry', 'Westferry', 'Poplar', 'Blackwall', 'East_India', 'Gospel_Oak', 'Upper_Holloway', 'Crouch_Hill', 'Harringay_Green_Lanes', 'South_Tottenham', 'Blackhorse_Road', 'Walthamstow_Queen’s_Road', 'Leyton_Midland_Road', 'Leytonstone_High_Road', 'Woodgrange_Park', 'Woodgrange_Park', 'New_Cross_Gate', 'Brockley', 'Honor_Oak_Park', 'Forest_Hill', 'Sydenham', 'Penge_West', 'Anerley', 'Norwood_Junction', 'Crystal_Palace'])",
     "output_type": "error",
     "traceback": [
      "\u001b[0;31m---------------------------------------------------------------------------\u001b[0m",
      "\u001b[0;31mRuntimeError\u001b[0m                              Traceback (most recent call last)",
      "Cell \u001b[0;32mIn[50], line 1\u001b[0m\n\u001b[0;32m----> 1\u001b[0m \u001b[43mgraph\u001b[49m\u001b[38;5;241;43m.\u001b[39;49m\u001b[43madd_edges\u001b[49m\u001b[43m(\u001b[49m\u001b[38;5;28;43mlist\u001b[39;49m\u001b[43m(\u001b[49m\u001b[38;5;28;43mzip\u001b[39;49m\u001b[43m(\u001b[49m\u001b[43mdata\u001b[49m\u001b[43m[\u001b[49m\u001b[38;5;124;43m'\u001b[39;49m\u001b[38;5;124;43mOxford_Circus\u001b[39;49m\u001b[38;5;124;43m'\u001b[39;49m\u001b[43m]\u001b[49m\u001b[43m,\u001b[49m\u001b[43m \u001b[49m\u001b[43mdata\u001b[49m\u001b[43m[\u001b[49m\u001b[38;5;124;43m'\u001b[39;49m\u001b[38;5;124;43mBond_Street\u001b[39;49m\u001b[38;5;124;43m'\u001b[39;49m\u001b[43m]\u001b[49m\u001b[43m)\u001b[49m\u001b[43m)\u001b[49m\u001b[43m)\u001b[49m\n",
      "File \u001b[0;32m~/.conda/envs/myenv/lib/python3.9/site-packages/igraph/basic.py:41\u001b[0m, in \u001b[0;36m_add_edges\u001b[0;34m(graph, es, attributes)\u001b[0m\n\u001b[1;32m     31\u001b[0m \u001b[38;5;124;03m\"\"\"Adds some edges to the graph.\u001b[39;00m\n\u001b[1;32m     32\u001b[0m \n\u001b[1;32m     33\u001b[0m \u001b[38;5;124;03m@param es: the list of edges to be added. Every edge is represented\u001b[39;00m\n\u001b[0;32m   (...)\u001b[0m\n\u001b[1;32m     38\u001b[0m \u001b[38;5;124;03m  edges.\u001b[39;00m\n\u001b[1;32m     39\u001b[0m \u001b[38;5;124;03m\"\"\"\u001b[39;00m\n\u001b[1;32m     40\u001b[0m eid \u001b[38;5;241m=\u001b[39m graph\u001b[38;5;241m.\u001b[39mecount()\n\u001b[0;32m---> 41\u001b[0m res \u001b[38;5;241m=\u001b[39m \u001b[43mGraphBase\u001b[49m\u001b[38;5;241;43m.\u001b[39;49m\u001b[43madd_edges\u001b[49m\u001b[43m(\u001b[49m\u001b[43mgraph\u001b[49m\u001b[43m,\u001b[49m\u001b[43m \u001b[49m\u001b[43mes\u001b[49m\u001b[43m)\u001b[49m\n\u001b[1;32m     42\u001b[0m n \u001b[38;5;241m=\u001b[39m graph\u001b[38;5;241m.\u001b[39mecount() \u001b[38;5;241m-\u001b[39m eid\n\u001b[1;32m     43\u001b[0m \u001b[38;5;28;01mif\u001b[39;00m (attributes \u001b[38;5;129;01mis\u001b[39;00m \u001b[38;5;129;01mnot\u001b[39;00m \u001b[38;5;28;01mNone\u001b[39;00m) \u001b[38;5;129;01mand\u001b[39;00m (n \u001b[38;5;241m>\u001b[39m \u001b[38;5;241m0\u001b[39m):\n",
      "\u001b[0;31mRuntimeError\u001b[0m: error while indexing vertex names; did you accidentally try to use a non-hashable object as a vertex name earlier? Check the name of vertex 418 (['Marble_Arch', 'Notting_Hill_Gate', 'Queensway', 'Lancaster_Gate', 'Oxford_Circus', 'Holborn', 'Chancery_Lane', \"St_Paul's\", 'Bank_', 'Gloucester_Road', 'Knightsbridge', 'Hyde_Park_Corner', 'Green_Park', 'Piccadilly_Circus', 'Leicester_Square', 'Covent_Garden', 'Holborn', 'Russel_Square', \"King''s_Cross_St_Pancras\", 'Euston', 'Warren_Street', 'Oxford_Circus', 'Green_Park', 'Victoria', 'Pimlico', 'Warren_Street', 'Goodge_Street', 'Tottenham_Court_Road', 'Leicester_Square', 'Charing_Cross', 'Embankment', 'Waterloo', 'Kennington', 'Borough', 'Borough', 'London_Bridge', 'Monument', 'Moorgate', 'Old_Street', 'Angel', 'Kennington', 'Oval', 'Stockwell', 'Gloucester_Road', 'South_Kensington', 'Sloane_Square', 'Victoria', \"St_James's_Park\", 'Westminister', 'Embankment', 'Temple', 'Blackfriars', 'Mansion_House', 'Cannon_Street', 'Monument', 'Tower_Hill', 'Tower_Hill', 'Aldgate', 'Aldgate_East', 'Liverpool_Street', 'Moorgate', 'Barbican', 'Farrington', \"King''s_Cross_St_Pancras\", 'Euston_Square', 'Great_Portland_Street', 'Edgware_Road', 'Edgware_Road', 'Bayswater', 'Notting_Hill_Gate', 'High_Street_Kensington', 'Baker_Street', 'Bond_Street', 'Green_Park', 'Westminister', 'Waterloo', 'Southwark', 'Baker_Street', \"Regent's_Park\", 'Oxford_Circus', 'Piccadilly_Circus', 'Waterloo', 'Lambeth_North', 'Baker_Street', 'Marylebone', 'Edgware_Road', 'Edgware_Road', \"King''s_Cross_St_Pancras\", 'Finsbury_Park', 'Finsbury_Park', 'Seven_Sisters', 'Tottenham_Hale', 'Blackhorse_Road', 'Euston', 'Mornington_Crescent', 'Euston', 'Edgware', 'Burnt_Oak', 'Colindale', 'Hendon_Central', 'Brent_Cross', 'Hampstead', 'Hampstead', 'Belsize_Park', 'Camden_Town', 'High_Barnet', 'Totteridge_&_Whetstone', 'Woodside_Park', 'Finchley_Central', 'Finchley_Central', 'Finchley_Central', 'East_Finchley', 'Highgate', 'Archway', 'Tufnell_Park', 'Kentish_Town', 'Morden', 'South_Wimbledon', 'Tooting_Broadway', 'Tooting_Bec', 'Balham', 'Clapham_South', 'Clapham_Common', 'Clapham_North', 'Stockwell', 'Stockwell', 'Gloucester_Road', \"Earl's_Court\", 'Barons_Court', 'Hammersmith', 'Turnham_Green', 'Heathrow_Terminal_1,2,3', 'Heathrow_Terminal_1,2,3', 'Heathrow_Terminal_4', 'Heathrow_Terminal_1,2,3', 'Hounslow_West', 'Hounslow_Central', 'Hounslow_Central', 'Hounslow_East', 'Osterley', 'Boston_Manor', 'Northfields', 'South_Ealing', 'Wimbledon', 'Wimbledon_Park', 'Southfields', 'East_Putney', 'Parsons_Green', 'Fulham_Broadway', 'West_Brompton', \"Earl's_Court\", \"Earl's_Court\", 'West_Kensington', 'Hammersmith', 'Ravenscourt_Park', 'Stamford_Brook', 'Richmond', 'Kew_Gardens', 'Gunnesbury', 'Turnham_Green', 'Chiswick_Park', 'Acton_Town', 'Ealing_Common', 'Holland_Park', \"Shepard's_Bush\", \"Shepard's_Bush\", 'White_City', 'North_Acton', 'West_Acton', 'Ealing_Broadway', 'West_Ruislip', 'Ruislip_Gardens', 'Northolt', 'Northolt', 'Greenford', 'Perivale', 'Park_Royal', 'North_Ealing', 'North_Acton', 'Sudbury_Town', 'Alperton', 'Sudbury_Hill', 'Uxbridge', 'Hillingdon', 'Ickenham', 'Ruislip', 'Eastcote', 'Rayners_Lane', 'South_Harrow', 'Sudbury_Hill', 'Rayners_Lane', 'West_Harrow', 'Amersham', 'Chesham', 'Chalfont_&_Latimer', 'Chorleywood', 'Rickmansworth', 'Moor_Park', 'Croxley', 'Pinner', 'Northwood_Hills', 'Northwood', 'Moor_Park', 'NorthHarrow', 'Finchley_Road', 'Finchley_Road', 'Wembley_Park', 'Preston_Road', 'Northwick_Park', 'Watford_Junction', 'Watford_High_Street', 'Bushey', 'Carpenders_Park', 'Hatch_End', 'Headstone_Lane', 'Harrow_&_Wealdstone', 'Kenton', 'South_Kenton', 'North_Wembley', 'Wembley_Central', 'Stonebridge_Park', 'Harlesden', 'Willesden_Junction', 'Kensal_Green_', 'Kilburn_Park', \"Queen's_Park\", 'Malda_Vale', 'Warwick_Avenue', 'Baker_Street', \"St_John's_Wood\", 'Swiss_Cottage', 'Queensbury', 'Neasden', 'Willesden_Green_', 'Kilburn', 'West_Hampstead', 'Finchley_Road', 'Stanmore', 'Canons_Park', 'Paddington', 'Royal_Oak_', 'Westburn_Park', 'Ladbroke_Grove', 'Latimer_Road', 'White_City', 'Wood_Lane', \"Shepherd's_Bush_Market_\", \"Shepherd's_Bush_Market_\", 'Goldhawk_Road', \"Shepard's_Bush\", 'Manor_House', 'Cockfosters', 'Oakwood', 'Arnos_Grove', 'Turnpike_Lane', 'Manor_House', 'Finsbury_Park', 'Arsenal', 'Holloway_Road', 'Caledonian_Road', 'Epping', 'Theydon_Bois', 'Debden', 'Loughton', 'Buckhurst_Hill', '_Woodford', 'South_Woodford', 'Snaresbrook', 'Leytonstone', 'Leyton', 'Stratford', 'Mile_End', 'Bethnal_Green_', 'Roding_Valley', 'Roding_Valley', 'Chigwell', 'Grange_Hill', 'Fairlop', 'Barkingside', 'Barkingside', 'Newbury_Park', 'Gants_Hill', 'Redbridge', 'Wanstead', 'Mile_End', 'Mile_End', 'Bow_Road', 'West_Ham', 'West_Ham', 'Plaistow', 'Upton_Park', 'East_Ham', 'Barking', 'Upney', 'Becontree', 'Dagenham_East', 'Elm_Park', 'Horchurch', 'Upminister_Bridge', 'Stepney_Green', 'Aldgate_East', 'Stratford', 'London_Bridge', 'Bermondsey', 'Canada_Water', 'Canary_Warf', 'North_Greenwich', 'Neasden', 'Wembley_Park', 'Gunnesbury', 'South_Acton', 'Willesden_Junction', 'Willesden_Junction', 'Brondesbury_Park', 'Kensal_Rise', 'Brondesbury', 'West_Hampstead', 'Finchley_Road_&_Frognal', 'Hampsted_Heath', 'Gospel_Oak', 'Camden_Road', 'Cledonian_Road_&_Barnsbury', 'Highbury_&_Islington', 'Canonbury', 'Hackney_Wick', 'Hackney_Wick', 'Homerton', 'Hackney_Central', 'Canonbury', 'Whitechapel', 'Shoreditch_High_Street', 'Haggerston', 'Haggerston', 'Whitechapel', 'Shadwell', 'Rotherhithe', 'Rotherhithe', 'Canada_Water', 'New_Cross', 'Surrey_Quays', 'Queens_Road_Peckham', 'Peckham_Rye', 'Denmark_Hill', 'Denmark_Hill', 'West_Brompton', 'Clapham_Junction', 'Wandsworth_Road', 'Clapham_High_Street', 'West_Brompton', \"Shepard's_Bush\", 'Lewisham', 'Elverson_Road', 'Deptford_Bridge', 'Greenwich', 'Cutty_Sark_for_Maritime_Greenwich', 'Island_Gardens', 'Mudchute', 'Crossharbour', 'South_Quay', 'Heron_Quays', 'Canary_Warf', 'Poplar', 'Bow_Church', 'Langdon_Park', 'Langdon_Park', 'Poplar', 'Bow_Church', 'Bow_Church', 'Pudding_Mill_Lane', 'Stratford', 'Stratford_High_Street', 'Abbey_Road', 'West_Ham', 'Star_Lane', 'Canning_Town', 'Royal_Victoria', 'Custom_House_for_ExCeL', 'Prince_Regent', 'Royal_Albert', 'Beckton_Park', 'Cyprus', 'Gallions_Reach', 'Woolwich_Arsenal', 'King_George_V', 'West_Silvertown', 'Pontoon_Dock', 'Canning_Town', 'Stratford_International', 'Bank_', 'Tower_Gateway', 'Bank_', 'Tower_Gateway', 'Limehouse', 'Westferry', 'Westferry', 'Poplar', 'Blackwall', 'East_India', 'Gospel_Oak', 'Upper_Holloway', 'Crouch_Hill', 'Harringay_Green_Lanes', 'South_Tottenham', 'Blackhorse_Road', 'Walthamstow_Queen’s_Road', 'Leyton_Midland_Road', 'Leytonstone_High_Road', 'Woodgrange_Park', 'Woodgrange_Park', 'New_Cross_Gate', 'Brockley', 'Honor_Oak_Park', 'Forest_Hill', 'Sydenham', 'Penge_West', 'Anerley', 'Norwood_Junction', 'Crystal_Palace'])"
     ]
    }
   ],
   "source": [
    "graph.add_edges(list(zip(data['Oxford_Circus'], data['Bond_Street'])))"
   ]
  },
  {
   "cell_type": "code",
   "execution_count": null,
   "id": "d0cf8dd3-ebe6-4c9f-b34e-2feaf5ab3c80",
   "metadata": {},
   "outputs": [],
   "source": []
  }
 ],
 "metadata": {
  "kernelspec": {
   "display_name": "Python 3 (ipykernel)",
   "language": "python",
   "name": "python3"
  },
  "language_info": {
   "codemirror_mode": {
    "name": "ipython",
    "version": 3
   },
   "file_extension": ".py",
   "mimetype": "text/x-python",
   "name": "python",
   "nbconvert_exporter": "python",
   "pygments_lexer": "ipython3",
   "version": "3.9.15"
  }
 },
 "nbformat": 4,
 "nbformat_minor": 5
}
