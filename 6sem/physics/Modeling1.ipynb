{
 "cells": [
  {
   "cell_type": "code",
   "execution_count": 90,
   "id": "be7016ed-dbfc-433e-a5e0-b48da4b3682f",
   "metadata": {},
   "outputs": [],
   "source": [
    "import numpy as np\n",
    "import matplotlib.pyplot as plt\n",
    "\n",
    "from scipy.linalg import eigh\n",
    "from scipy.integrate import quad\n",
    "from prettytable import PrettyTable"
   ]
  },
  {
   "cell_type": "markdown",
   "id": "487a58e9-da36-4e42-a527-1bc0292a5336",
   "metadata": {},
   "source": [
    "## Часть 1"
   ]
  },
  {
   "cell_type": "markdown",
   "id": "5ecd08be-f0c2-4d95-bd32-9f7a28485f42",
   "metadata": {},
   "source": [
    "#### Константы"
   ]
  },
  {
   "cell_type": "code",
   "execution_count": 392,
   "id": "061a8283-c500-437d-abdb-e87e60b09e02",
   "metadata": {},
   "outputs": [],
   "source": [
    "HBAR = 1.0545718e-34 #\n",
    "eV = 1.60218e-19 #\n",
    "m = 9.10938356e-31 #\n",
    "a = 2e-9 #\n",
    "U0 = 1 * eV #\n",
    "L = 2 * a #\n",
    "N = 1000"
   ]
  },
  {
   "cell_type": "markdown",
   "id": "00622155-ec56-4483-91ce-659cd98a66af",
   "metadata": {},
   "source": [
    "#### Пространственная сетка X"
   ]
  },
  {
   "cell_type": "code",
   "execution_count": 391,
   "id": "c47f5a35-5ed5-4a00-a3ba-536ece8944c1",
   "metadata": {},
   "outputs": [],
   "source": [
    "x = np.linspace(-L / 2, L / 2, N)\n",
    "dx = x[1] - x[0]"
   ]
  },
  {
   "cell_type": "markdown",
   "id": "5e224dde-1a6c-4b5d-857e-8e03667e2422",
   "metadata": {},
   "source": [
    "#### Построение потенциальной энергии V(x)"
   ]
  },
  {
   "cell_type": "code",
   "execution_count": 384,
   "id": "5c3dada1-840e-419f-9f45-9509d43a73a6",
   "metadata": {},
   "outputs": [],
   "source": [
    "V = np.zeros_like(x)\n",
    "for i in range(N):\n",
    "    if abs(x[i]) < a:\n",
    "        V[i] = -U0\n",
    "    else:\n",
    "        V[i] = 0"
   ]
  },
  {
   "cell_type": "markdown",
   "id": "9aaac62f-fc98-4d22-8b21-1392dfa84092",
   "metadata": {},
   "source": [
    "#### Коэффициенты гамильтониана (масштабирование)"
   ]
  },
  {
   "cell_type": "code",
   "execution_count": 385,
   "id": "e245e3af-a276-4274-a9cd-3fea756f9af3",
   "metadata": {},
   "outputs": [],
   "source": [
    "diag = HBAR**2 / (2 * m * dx**2)\n",
    "H = np.zeros((N, N))\n",
    "\n",
    "for i in range(N):\n",
    "    H[i, i] = 2 * diag + V[i]\n",
    "    if i > 0:\n",
    "        H[i, i - 1] = -diag\n",
    "    if i < N - 1:\n",
    "        H[i, i + 1] = -diag"
   ]
  },
  {
   "cell_type": "markdown",
   "id": "5089901f-a6a7-43c2-b611-040380f6b4b9",
   "metadata": {},
   "source": [
    "#### Поиск собственных значений и векторов (решение уравнения Шрёдингера)"
   ]
  },
  {
   "cell_type": "code",
   "execution_count": 386,
   "id": "42e9779e-11ca-4437-8be7-e6ccbb5ecb41",
   "metadata": {},
   "outputs": [],
   "source": [
    "eigvals, eigvecs = eigh(H, subset_by_index=[0, 3]) #матрица\n",
    "energies = eigvals / eV #собственные значения\n",
    "eigvecs = eigvecs / np.sqrt(dx) #собственные вектора"
   ]
  },
  {
   "cell_type": "markdown",
   "id": "b579ebb8-45cc-4ae4-9a7a-3027bdf4144c",
   "metadata": {},
   "source": [
    "#### Анализ связных состояний (E "
   ]
  },
  {
   "cell_type": "code",
   "execution_count": 387,
   "id": "6ac99773-9f3a-474b-9f11-b46a0b4a53fa",
   "metadata": {},
   "outputs": [],
   "source": [
    "bound_states = energies < 0\n",
    "bound_energies = energies[bound_states]\n",
    "bound_eigvecs = eigvecs[:, bound_states]"
   ]
  },
  {
   "cell_type": "code",
   "execution_count": 388,
   "id": "6d1898c7-2db7-4875-97ad-b262333e1b91",
   "metadata": {},
   "outputs": [],
   "source": [
    "table = PrettyTable()\n",
    "table.field_names = [\"Уровень\", \"Энергия (эВ)\"]\n",
    "for i, E in enumerate(bound_energies, 1):\n",
    "    table.add_row([f\"n = {i}\", f\"{E:.3f}\"])"
   ]
  },
  {
   "cell_type": "code",
   "execution_count": 389,
   "id": "0d370b2e-b97d-4d7a-94e1-afc365ec49ad",
   "metadata": {},
   "outputs": [
    {
     "name": "stdout",
     "output_type": "stream",
     "text": [
      "Уровни энергии внутри потенциальной ямы (в эВ):\n",
      "+---------+--------------+\n",
      "| Уровень | Энергия (эВ) |\n",
      "+---------+--------------+\n",
      "+---------+--------------+\n"
     ]
    }
   ],
   "source": [
    "print(\"Уровни энергии внутри потенциальной ямы (в эВ):\")\n",
    "print(table)"
   ]
  },
  {
   "cell_type": "code",
   "execution_count": 390,
   "id": "2f2b3025-501d-4368-97d1-5893a52fe9e5",
   "metadata": {},
   "outputs": [],
   "source": [
    "zone_mask = np.abs(x) < a\n",
    "x_zone = x[zone_mask] * 1e9\n",
    "eigvecs_zone = bound_eigvecs[zone_mask, :]"
   ]
  },
  {
   "cell_type": "code",
   "execution_count": 373,
   "id": "5b3158f4-746f-4189-bb47-66166940ab9f",
   "metadata": {},
   "outputs": [
    {
     "data": {
      "image/png": "[encoded data removed]",
      "text/plain": [
       "<Figure size 800x600 with 1 Axes>"
      ]
     },
     "metadata": {},
     "output_type": "display_data"
    }
   ],
   "source": [
    "plt.figure(figsize=(8, 6))\n",
    "for i in range(len(bound_energies)):\n",
    "    wave_zone = eigvecs_zone[:, i] / np.max(np.abs(eigvecs_zone[:, i])) * 0.25\n",
    "    plt.plot(x_zone, wave_zone + bound_energies[i], label=f\"E[{i+1}]={bound_energies[i]:.3f} эВ\")\n",
    "plt.plot(x * 1e9, V / eV, 'k--', label='Потенциал V(x)')\n",
    "plt.title(\"Собственные функции и уровни энергии (только внутри ямы)\")\n",
    "plt.xlabel(\"x, нм\")\n",
    "plt.ylabel(\"Энергия, эВ\")\n",
    "plt.ylim(-U0 / eV - 1, 1)\n",
    "plt.axhline(0, color='gray', linestyle='--', linewidth=0.8)\n",
    "plt.legend()\n",
    "plt.grid()\n",
    "plt.show()"
   ]
  },
  {
   "cell_type": "markdown",
   "id": "a79b822e-6313-4431-86a0-9764e0258799",
   "metadata": {},
   "source": [
    "## Часть 2"
   ]
  },
  {
   "cell_type": "code",
   "execution_count": 429,
   "id": "ba04987f-73c7-469f-bed2-ff2afa5d2201",
   "metadata": {},
   "outputs": [
    {
     "name": "stdout",
     "output_type": "stream",
     "text": [
      "\n",
      "Значение D: 0.07731687637250399\n",
      "Значение D: 7.73 %\n",
      "Разница между U и E 1.00000000e-20\n"
     ]
    }
   ],
   "source": [
    "# потребуется h_,m,U(x),E,h как ширина интегрирования\n",
    "\n",
    "U = lambda x: 4.000e-19  # Высота U(x) (высота барьера)\n",
    "#U = lambda x: 1.000e-19+1e-35  # Значение D: 0.9999999911187604\n",
    "E = 3.9e-19             # Энергия E\n",
    "h = 1e-9             # Ширина интегрирования\n",
    "if(E >= U(x)):\n",
    "    print('\\nP(прохождения барьера) -> 1. Важно учесть, что есть P(отскока от барьера) != 0')\n",
    "else:\n",
    "    # Функция для интегрирования\n",
    "    def integrand(x):\n",
    "        if x < 0:\n",
    "            return 0  # U(x) = 0, подкоренное выражение будет отрицательным\n",
    "        elif 0 <= x <= h:\n",
    "            return np.sqrt(2 * m * (U(x) - E))  # U(x) = U_0\n",
    "        else:\n",
    "            return 0  # U(x) = 0\n",
    "\n",
    "    # Вычисление интеграла\n",
    "    integral_value, error = quad(integrand, 0, h)\n",
    "\n",
    "    # Вычисление D\n",
    "    D = np.exp((-2 / HBAR) * integral_value)\n",
    "\n",
    "    print(f\"\\nЗначение D: {D}\")\n",
    "    print(f\"Значение D: {D*100:.2f} %\")\n",
    "    print(f\"Разница между U и E {U(x)-E:.8e}\")"
   ]
  },
  {
   "cell_type": "code",
   "execution_count": null,
   "id": "84a08bd8-85fc-47c6-83a5-2c50f9ff9dbc",
   "metadata": {},
   "outputs": [],
   "source": []
  },
  {
   "cell_type": "code",
   "execution_count": null,
   "id": "3fcf5280-730e-492f-bf4f-5ca9105a4c65",
   "metadata": {},
   "outputs": [],
   "source": []
  },
  {
   "cell_type": "code",
   "execution_count": null,
   "id": "a13e9c22-78dd-4712-a4a8-0349903a56cd",
   "metadata": {},
   "outputs": [],
   "source": []
  },
  {
   "cell_type": "code",
   "execution_count": null,
   "id": "1ea8c6ba-7cc1-4cdc-b23c-fb6342b28bcc",
   "metadata": {},
   "outputs": [],
   "source": []
  },
  {
   "cell_type": "code",
   "execution_count": null,
   "id": "769a50a8-0d81-47f4-a85d-14e03d559646",
   "metadata": {},
   "outputs": [],
   "source": []
  }
 ],
 "metadata": {
  "kernelspec": {
   "display_name": "Python 3 (ipykernel)",
   "language": "python",
   "name": "python3"
  },
  "language_info": {
   "codemirror_mode": {
    "name": "ipython",
    "version": 3
   },
   "file_extension": ".py",
   "mimetype": "text/x-python",
   "name": "python",
   "nbconvert_exporter": "python",
   "pygments_lexer": "ipython3",
   "version": "3.12.8"
  }
 },
 "nbformat": 4,
 "nbformat_minor": 5
}
