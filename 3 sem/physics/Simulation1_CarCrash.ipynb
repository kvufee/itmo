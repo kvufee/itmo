{
 "cells": [
  {
   "cell_type": "markdown",
   "id": "3f4efe3e-8f56-4b3e-90ea-3cf42e8a5d31",
   "metadata": {},
   "source": [
    "#### Попов Алексей М3215"
   ]
  },
  {
   "cell_type": "markdown",
   "id": "4d2e80cf-ea95-495e-a800-d604f9b77fe2",
   "metadata": {},
   "source": [
    "## Автомобильная авария\n",
    "Визуализировать материальные точки в движении (водитель и автомобиль) при аварии. Учесть несколько условий: был ли пристёгнут водитель и присутствовала ли подушка безопасности. В ответе спрогнозировать на сколько смертельным будет удар для водителя."
   ]
  },
  {
   "cell_type": "markdown",
   "id": "f913102b-a96b-4d58-bfa0-0b7aea3cd4d6",
   "metadata": {},
   "source": [
    "Для начала стоит рассмотреть летальность исхода для человека. Насколько сильным должен быть удар (т.е. какая сила должна воздействовать на материальную точку), чтобы человек скончался?\n",
    "\n",
    "По условию нам дан один автомобиль с водителем, следовательно авария будет происходить в результате столкновения автомобиля со статичным объектом."
   ]
  }
 ],
 "metadata": {
  "kernelspec": {
   "display_name": "Python 3 (ipykernel)",
   "language": "python",
   "name": "python3"
  },
  "language_info": {
   "codemirror_mode": {
    "name": "ipython",
    "version": 3
   },
   "file_extension": ".py",
   "mimetype": "text/x-python",
   "name": "python",
   "nbconvert_exporter": "python",
   "pygments_lexer": "ipython3",
   "version": "3.11.2"
  }
 },
 "nbformat": 4,
 "nbformat_minor": 5
}
