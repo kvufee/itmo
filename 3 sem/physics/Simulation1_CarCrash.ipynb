{
 "cells": [
  {
   "cell_type": "code",
   "execution_count": 4,
   "id": "14de9c37-a1e6-4db1-90b9-cd08645c4528",
   "metadata": {},
   "outputs": [],
   "source": [
    "import jupyterlab_latex"
   ]
  },
  {
   "cell_type": "markdown",
   "id": "3f4efe3e-8f56-4b3e-90ea-3cf42e8a5d31",
   "metadata": {},
   "source": [
    "#### Попов Алексей М3215"
   ]
  },
  {
   "cell_type": "markdown",
   "id": "4d2e80cf-ea95-495e-a800-d604f9b77fe2",
   "metadata": {},
   "source": [
    "## Автомобильная авария\n",
    "Визуализировать материальные точки в движении (водитель и автомобиль) при аварии. Учесть несколько условий: был ли пристёгнут водитель и присутствовала ли подушка безопасности. В ответе спрогнозировать на сколько смертельным будет удар для водителя."
   ]
  },
  {
   "cell_type": "markdown",
   "id": "f913102b-a96b-4d58-bfa0-0b7aea3cd4d6",
   "metadata": {},
   "source": [
    "Для начала стоит рассмотреть летальность исхода для человека. Насколько сильным должен быть удар (т.е. какая сила должна воздействовать на материальную точку), чтобы человек скончался? По условию нам дан один автомобиль с водителем, следовательно авария будет происходить в результате столкновения автомобиля со статичным объектом. Теоритически человек способен выдерживать нагрузку 40g, при достижении 50g начнутся травмы внутренних органов, приводящих к смерти. При ударе, во время автомобильной аварии, работа, совершаемая ударной силой, замедляющей движущийся объект на расстоянии за счет деформации зоны смятия, может быть выражена как работа силы, которая \"сминает\" машину в гармошку. Так как машина врезается в статичный объект, средняя сила удара станет константой, так как сминаться больше некуда, а при ударе, при котором объект не деформирован, работа, совершаемая ударной силой, замедляющей движущийся объект, равна работе, какую бы совершила пружина."
   ]
  },
  {
   "cell_type": "markdown",
   "id": "fa9fcfd2-26eb-447e-8bcc-ebde6f8c635a",
   "metadata": {},
   "source": [
    "Формула кинетической энергии $ E_k = \\frac{m v^2}{2} $; Работа деформации $ A_d = F_a S $; g - нагрузка, равная ускорению свободного падения, т.е. 9.8 м/с^2; работа пружины $ A_p = \\frac{A_d}{2} = \\frac{ks^2}{2} $; "
   ]
  },
  {
   "cell_type": "markdown",
   "id": "f709703d-0da2-4b53-8d2b-bca0e3568fc5",
   "metadata": {},
   "source": [
    "Приравняем кинетическую энергию с работой деформации: $ F_a S = \\frac{mv^2}{2} $, следовательно средняя сила, воздействующая на тело $ F_a = \\frac{\\frac{mv^2}{2}}{S} $, а расстояние, на которое сомнётся машина будет $ S = \\frac{\\frac{mv^2}{2}}{F_a} $"
   ]
  },
  {
   "cell_type": "code",
   "execution_count": null,
   "id": "429b2528-3e85-4d46-ba70-df662f0930f2",
   "metadata": {},
   "outputs": [],
   "source": []
  },
  {
   "cell_type": "code",
   "execution_count": null,
   "id": "f3d352b9-5793-432b-9708-924ce5d89cd9",
   "metadata": {},
   "outputs": [],
   "source": []
  },
  {
   "cell_type": "code",
   "execution_count": null,
   "id": "11455145-a5e4-4cc6-9d92-0ff3e685ff52",
   "metadata": {},
   "outputs": [],
   "source": []
  },
  {
   "cell_type": "code",
   "execution_count": null,
   "id": "e16c9e64-5470-4ab0-b872-5cb100737d2f",
   "metadata": {},
   "outputs": [],
   "source": []
  },
  {
   "cell_type": "code",
   "execution_count": null,
   "id": "b7b00558-3bec-4041-a9c6-551489f29277",
   "metadata": {},
   "outputs": [],
   "source": []
  },
  {
   "cell_type": "code",
   "execution_count": null,
   "id": "d382f9a0-d530-48ce-96d8-0631710a1b72",
   "metadata": {},
   "outputs": [],
   "source": []
  }
 ],
 "metadata": {
  "kernelspec": {
   "display_name": "Python 3 (ipykernel)",
   "language": "python",
   "name": "python3"
  },
  "language_info": {
   "codemirror_mode": {
    "name": "ipython",
    "version": 3
   },
   "file_extension": ".py",
   "mimetype": "text/x-python",
   "name": "python",
   "nbconvert_exporter": "python",
   "pygments_lexer": "ipython3",
   "version": "3.11.6"
  }
 },
 "nbformat": 4,
 "nbformat_minor": 5
}
