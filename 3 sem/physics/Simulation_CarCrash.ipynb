{
 "cells": [
  {
   "cell_type": "code",
   "execution_count": 44,
   "id": "f887393b-612a-449c-bfef-fe8432f30419",
   "metadata": {},
   "outputs": [],
   "source": [
    "import pandas as pd\n",
    "import numpy as np\n",
    "import matplotlib.pyplot as plt\n",
    "\n",
    "import matplotlib.animation as animation"
   ]
  },
  {
   "cell_type": "markdown",
   "id": "612783d5-d495-4c0d-a86c-9297425e25ad",
   "metadata": {},
   "source": [
    "## Автомобильная авария\n",
    "Визуализировать материальные точки в движении (водитель и автомобиль) при аварии.\n",
    "Учесть несколько условий: был ли пристёгнут водитель и присутствовала ли подушка безопасности. В ответе спрогнозировать на сколько смертельным будет удар для водителя.\n",
    "\n",
    "Для начала стоит рассмотреть летальность исхода для человека. Насколько сильным должен быть удар (т.е. какая сила должна воздействовать на материальную точку),\n",
    "чтобы человек скончался? По условию нам дан один автомобиль с водителем, следовательно авария будет происходить в результате столкновения автомобиля со статичным\n",
    "объектом. Теоритически человек способен выдерживать нагрузку 40g, при достижении 50g начнутся травмы внутренних органов, приводящих к смерти. При ударе, во время\n",
    "автомобильной аварии, работа, совершаемая ударной силой, замедляющей движущийся объект на расстоянии за счет деформации зоны смятия, может быть выражена как работа\n",
    "силы, которая \"сминает\" машину в гармошку. Так как машина врезается в статичный объект, средняя сила удара станет константой, так как сминаться больше некуда, а при\n",
    "ударе, при котором объект не деформирован, работа, совершаемая ударной силой, замедляющей движущийся объект, равна работе, какую бы совершила пружина.\n",
    "\n",
    "Формула кинетической энергии Ek = mv^2/2\n",
    "Работа деформации A_д = Fs * S\n",
    "g - нагрузка, равная ускорению свободного падения, т.е. 9.8 м/с^2\n",
    "Работа пружины A_п = A_д/2 = ks^2/2 \n",
    "\n",
    "\n",
    "\n",
    "Приравняем кинетическую энергию с работой деформации: F_avg * S = mv^2/2, следовательно средняя сила, воздействующая на тело F_avg = (mv^2/2)/S, а расстояние,\n",
    "на которое сомнётся машина будет S = (mv^2/2)/F_avg"
   ]
  },
  {
   "cell_type": "code",
   "execution_count": 53,
   "id": "0bbf64cf-69ef-4457-9ebe-ebb23828b862",
   "metadata": {},
   "outputs": [],
   "source": [
    "def isLethal(isBelted : bool, isAirbag : bool, carMass : int, speed : float):\n",
    "    lethal = False\n",
    "    throughWindow = False\n",
    "    maxForce = 0\n",
    "    \n",
    "    if (isBelted == False and isAirbag == False):\n",
    "        maxForce = 28\n",
    "        throughWindow = True\n",
    "    elif (isBelted == False and isAirbag == True):\n",
    "        maxForce = 33\n",
    "        throughWindow = True\n",
    "    elif (isBelted == True and isAirbag == False):\n",
    "        maxForce = 36\n",
    "        throughWindow = False\n",
    "    elif (isBelted == True and isAirbag == True):\n",
    "        maxForce = 40\n",
    "        throughWindow = False\n",
    "        \n",
    "    maxImpact = (0.5 * carMass * (speed / 3.6)**2) / deformationDistance\n",
    "    gravityForce = maxImpact / (carMass * 9.8)\n",
    "    \n",
    "    if gravityForce > maxForce:\n",
    "        lethal = True\n",
    "    \n",
    "    return lethal, throughWindow"
   ]
  },
  {
   "cell_type": "markdown",
   "id": "9793189a-71ff-432f-afd1-b557e208c180",
   "metadata": {},
   "source": [
    "## Визуализируем машину как 2D круг "
   ]
  },
  {
   "cell_type": "code",
   "execution_count": 56,
   "id": "16b1127e-d6a7-45b8-9227-c8c9d5fe754d",
   "metadata": {},
   "outputs": [
    {
     "data": {
      "image/png": "[encoded data removed]",
      "text/plain": [
       "<Figure size 640x480 with 1 Axes>"
      ]
     },
     "metadata": {},
     "output_type": "display_data"
    }
   ],
   "source": [
    "fig, ax = plt.subplots()\n",
    "t = np.linspace(0, 2*np.pi, 40)\n",
    "x = 1 + np.cos(t)\n",
    "y = 1 + np.sin(t)\n",
    "\n",
    "g = -9.81\n",
    "v02 = 100\n",
    "t2 = np.linspace(0, 3, 40)\n",
    "z2 = g * t2**2 / 2 + v02 * t2\n",
    "\n",
    "scat = ax.scatter(x[0], y[0], c=\"b\", s=5, label='car')\n",
    "line2 = ax.plot(t2[0], z2[0], label=f'v0 = {v02} m/s')[0]\n",
    "ax.set(xlim=[0, 3], ylim=[-4, 10], xlabel='X', ylabel='Y')\n",
    "ax.legend()\n",
    "\n",
    "def update(frame):\n",
    "    xdata = x[:frame]\n",
    "    ydata = y[:frame]\n",
    "    data = np.stack([xdata, ydata]).T\n",
    "    scat.set_offsets(data)\n",
    "    line2.set_xdata(t2[:frame])\n",
    "    line2.set_ydata(z2[:frame])\n",
    "    return (scat, line2)\n",
    "\n",
    "ani = animation.FuncAnimation(fig=fig, func=update, frames=40, interval=30)\n",
    "plt.show()"
   ]
  },
  {
   "cell_type": "code",
   "execution_count": 33,
   "id": "515b9772-57d4-4b29-890d-473146edb7e9",
   "metadata": {},
   "outputs": [],
   "source": []
  },
  {
   "cell_type": "code",
   "execution_count": null,
   "id": "386ad370-18c6-434b-b0cc-f6c567c7fcc7",
   "metadata": {},
   "outputs": [],
   "source": []
  }
 ],
 "metadata": {
  "kernelspec": {
   "display_name": "Python 3 (ipykernel)",
   "language": "python",
   "name": "python3"
  },
  "language_info": {
   "codemirror_mode": {
    "name": "ipython",
    "version": 3
   },
   "file_extension": ".py",
   "mimetype": "text/x-python",
   "name": "python",
   "nbconvert_exporter": "python",
   "pygments_lexer": "ipython3",
   "version": "3.12.1"
  }
 },
 "nbformat": 4,
 "nbformat_minor": 5
}
